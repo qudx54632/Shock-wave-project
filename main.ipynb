{
 "cells": [
  {
   "cell_type": "code",
   "execution_count": 1,
   "metadata": {},
   "outputs": [],
   "source": [
    "using Plots, Polynomials"
   ]
  },
  {
   "cell_type": "code",
   "execution_count": 2,
   "metadata": {},
   "outputs": [],
   "source": [
    "# Define constants\n",
    "const l = -1       \n",
    "const zeta = 0.5  \n",
    "\n",
    "const r0 = 1.0   \n",
    "const rmin = 0.5\n",
    "const rmax = 1.5\n",
    "\n",
    "const r_left = 1.0e-6\n",
    "const r_right = 5.0\n",
    "\n",
    "const M = 0.8     \n",
    "const rho0 = 3 * M/(4 * π * r0^3)  \n",
    "\n",
    "\n",
    "const nx = 10096\n",
    "const ng = 2\n",
    "\n",
    "const threshold = 30.0\n",
    "const tmin = 0.0\n",
    "const tmax = 3.0\n",
    "const C = 0.5;"
   ]
  },
  {
   "cell_type": "code",
   "execution_count": null,
   "metadata": {},
   "outputs": [
    {
     "data": {
      "text/plain": [
       "\"/Users/qudx/Documents/ourwork/LQGBHs/Shock Wave/code/X_source/Charateristics_FiG_Horizon/\""
      ]
     },
     "metadata": {},
     "output_type": "display_data"
    }
   ],
   "source": [
    "current_dir = \"/Users/qudx/Documents/ourwork/LQGBHs/Shock Wave/code/X_source/code in paper/Charateristics_FiG_Horizon/\""
   ]
  },
  {
   "cell_type": "markdown",
   "metadata": {},
   "source": [
    "# Weak solutions"
   ]
  },
  {
   "cell_type": "code",
   "execution_count": null,
   "metadata": {},
   "outputs": [],
   "source": [
    "include(joinpath(current_dir, \"initialize_grid.jl\"))\n",
    "include(joinpath(current_dir, \"get_initial_bdry.jl\"))\n",
    "include(joinpath(current_dir, \"initialize_grid.jl\"))\n",
    "include(joinpath(current_dir, \"get_initial_bdry.jl\")) \n",
    "include(joinpath(current_dir, \"get_flux_velocity.jl\"))\n",
    "include(joinpath(current_dir, \"get_interface_states.jl\"))\n",
    "include(joinpath(current_dir, \"get_PDE_solver.jl\"))\n",
    "include(joinpath(current_dir, \"flux_update.jl\"))\n",
    "include(joinpath(current_dir, \"modify_sign.jl\"))\n",
    "include(joinpath(current_dir, \"update_state.jl\"))\n",
    "\n",
    "gridvalue = InitializeGrid(nx, ng, rmin, rmax);\n",
    "update_state(gridvalue, C, tmin, tmax, compute_flux, compute_source, compute_velocity, Meff_func, threshold);"
   ]
  },
  {
   "cell_type": "markdown",
   "metadata": {},
   "source": [
    "# Manage Data to have graphs"
   ]
  },
  {
   "cell_type": "code",
   "execution_count": null,
   "metadata": {},
   "outputs": [],
   "source": [
    "using Plots, Base.Threads, Roots\n",
    "\n",
    "include(joinpath(current_dir, \"characteristic_shock.jl\"))\n",
    "include(joinpath(current_dir, \"characteristic_original.jl\"))\n",
    "\n",
    "# Compute characteristic values\n",
    "c1, c2 = c_value(r_left, Meff_func), c_value_outer(r_right, Meff_func)\n",
    "X_vals = X_inner.(gridvalue.t, 0.7, c1)\n",
    "t1, t2 = gridvalue.t[findmax(X_vals)[2]], gridvalue.t[findmin(X_vals)[2]]\n",
    "tb = t1 + (t2 - t1) / 2\n",
    "Xright = X_outer(gridvalue.x[end], c2)\n",
    "\n",
    "# Define x indices for characteristic curves\n",
    "x_indices = collect(3:600:nx)\n",
    "xvalues = @view gridvalue.x[x_indices]\n",
    "\n",
    "# Solve characteristic curves in parallel\n",
    "characteristic_shock = map(x_idx -> solve_r_ode(gridvalue, x_idx), x_indices)\n",
    "\n",
    "# Define a color palette and ensure consistent coloring\n",
    "color_palette = [cgrad(:pastel, length(x_indices))[i] for i in 1:length(x_indices)]\n",
    "\n",
    "# Initialize plot\n",
    "plotp = plot(xlabel=\"\\$t\\$\", ylabel=\"\\$r\\$\", guidefont=14, tickfont=12, palette=:pastel, ylims=(0.35, 1.35))\n",
    "\n",
    "# Plot shock characteristic curves with consistent colors\n",
    "for (i, (shock_curve, _)) in enumerate(characteristic_shock)\n",
    "    plot!(plotp, gridvalue.t, shock_curve, label=false, linewidth=2.0, color=color_palette[i])\n",
    "end\n",
    "\n",
    "# Compute and plot shock surface\n",
    "x_t_poly, _, _, _ = shock_surface(gridvalue, 1, length(gridvalue.t))\n",
    "t_shock_start_index = findfirst(!iszero, gridvalue.shock_sig)\n",
    "t_values = @view gridvalue.t[t_shock_start_index:end]\n",
    "xtshock = [x_t_poly(t) for t in t_values]\n",
    "plot!(plotp, t_values, xtshock, color=:red, linewidth=1.5, label=false)\n",
    "\n",
    "# Add vertical and horizontal reference lines\n",
    "vline!([tb], color=:red, linestyle=:dash, label=false)\n",
    "annotate!(tb, 0.3, text(\"\\$t_b\\$\", :red, 12, :center))\n",
    "\n",
    "ts = gridvalue.t[t_shock_start_index]\n",
    "vline!([ts], color=:purple, linestyle=:dash, label=false)\n",
    "annotate!(ts + 0.05, 0.3, text(\"\\$t_s\\$\", :purple, 12, :center))\n",
    "\n",
    "# Mark maximum radius\n",
    "rsmax = maximum(xtshock)\n",
    "hline!([rsmax], color=:purple, linestyle=:dash, label=false)\n",
    "annotate!(1.0, rsmax + 0.025, text(\"\\$r_s^{max}\\$\", :purple, 12, :center))\n",
    "\n",
    "# Mark `r_b`\n",
    "xb = find_zero((r -> c2 - 2 * r^3), 0.73, atol=1e-10, rtol=1e-10)\n",
    "hline!([xb], color=:red, linestyle=:dash, label=false)\n",
    "annotate!(2.0, 0.7, text(\"\\$r_b\\$\", :red, 12, :center))\n",
    "\n",
    "# Compute characteristic curves for the original solver\n",
    "t_range = collect(0.0:0.01:0.3)\n",
    "characteristic_curves = map(x_idx -> Characteristic_Original_solver(gridvalue, x_idx, t_range), x_indices)\n",
    "\n",
    "# Plot original characteristic curves with matching colors\n",
    "for (i, curve) in enumerate(characteristic_curves)\n",
    "    plot!(plotp, -curve[1], curve[2], label=false, linewidth=1.5, color=color_palette[i])\n",
    "end\n",
    "\n",
    "# Display the plot\n",
    "display(plotp)\n",
    "# savefig(joinpath(current_dir, \"figures/characteristic_original.png\"))"
   ]
  },
  {
   "cell_type": "code",
   "execution_count": null,
   "metadata": {},
   "outputs": [],
   "source": [
    "include(joinpath(current_dir, \"get_horizon.jl\"))\n",
    "\n",
    "t_horizon_index = collect(1:100:length(gridvalue.t))\n",
    "t_value_horizon = [gridvalue.t[i] for i in 1:100:length(gridvalue.t)]\n",
    "horizons = [find_all_roots(gridvalue, i, -1) for i in t_horizon_index]\n",
    "h_plus = [horizons[i][1] for i in 1:length(horizons)]\n",
    "h_minus = [horizons[i][2] for i in 1:length(horizons)];\n",
    "plot!(t_value_horizon, h_minus, color=:green, label=false, linewidth=1.5)\n",
    "\n",
    "plot!(t_value_horizon, h_plus, color=:blue, label=false, linewidth=1.5)\n",
    "\n",
    "annotate!(1, h_plus[1], text(\"\\$h_{+}\\$\", :blue, 12, :center))\n",
    "annotate!(1, h_minus[1], text(\"\\$h_{-}\\$\", :green, 12, :center))\n",
    "annotate!(1, 1.2, text(\"Trapped Region\", :black, 12, :center))"
   ]
  },
  {
   "cell_type": "code",
   "execution_count": 7,
   "metadata": {},
   "outputs": [],
   "source": [
    "test_t = collect(0:0.0001:1)\n",
    "x_i_index = collect(2974:length(gridvalue.x))\n",
    "curves1 = [Characteristic_Original_solver(gridvalue, i, test_t) for i in x_i_index];\n",
    "\n",
    "horizon_negative = [find_all_roots_negative(curves1[i][3], curves1[i][2], test_t) for i in 1:length(curves1)]\n",
    "\n",
    "# Initialize storage vectors\n",
    "h_plus_negative = []\n",
    "t_plus_negative = []\n",
    "h_minus_negative = []\n",
    "t_minus_negative = []\n",
    "\n",
    "for i in 1:length(horizon_negative)\n",
    "    roots = horizon_negative[i]  # Extract the root list for this index\n",
    "\n",
    "    if length(roots[1]) == 1 \n",
    "        push!(h_minus_negative, roots[1][1])\n",
    "        push!(t_minus_negative, -roots[2][1])\n",
    "    elseif length(roots[1]) == 2\n",
    "        push!(h_plus_negative, roots[1][1])\n",
    "        push!(t_plus_negative, -roots[2][1])\n",
    "        push!(h_minus_negative, roots[1][2])\n",
    "        push!(t_minus_negative, -roots[2][2])\n",
    "    end\n",
    "end"
   ]
  },
  {
   "cell_type": "code",
   "execution_count": null,
   "metadata": {},
   "outputs": [],
   "source": [
    "plot!(t_plus_negative, h_plus_negative, color=:blue, label=false, linewidth=1.5)\n",
    "plot!(t_minus_negative, h_minus_negative, color=:green, label=false, linewidth=1.5)\n",
    "# savefig(joinpath(current_dir, \"figures/characteristic_shock.png\"))"
   ]
  }
 ],
 "metadata": {
  "kernelspec": {
   "display_name": "Julia 1.10.5",
   "language": "julia",
   "name": "julia-1.10"
  },
  "language_info": {
   "file_extension": ".jl",
   "mimetype": "application/julia",
   "name": "julia",
   "version": "1.10.5"
  }
 },
 "nbformat": 4,
 "nbformat_minor": 2
}
